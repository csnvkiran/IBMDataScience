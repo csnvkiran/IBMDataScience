{
 "cells": [
  {
   "cell_type": "markdown",
   "id": "0a6e1e3c-ae02-4a7e-b324-fe11c1571720",
   "metadata": {
    "tags": []
   },
   "source": [
    "# Data Science Tools and Ecosystem"
   ]
  },
  {
   "cell_type": "markdown",
   "id": "8a7df8b9-e4ea-4bd6-9fb9-a1cee3f44053",
   "metadata": {},
   "source": [
    "In this notebook, Data Science Tools and Ecosystem are summarized"
   ]
  },
  {
   "cell_type": "markdown",
   "id": "26ead899-b15b-4ed6-98c9-acbf1d70149d",
   "metadata": {},
   "source": [
    "Some of the popular languages that Data Scientists use are:  \n",
    "1. python  \n",
    "2. R  \n",
    "3. julia  "
   ]
  },
  {
   "cell_type": "markdown",
   "id": "232af0f8-2e92-4b84-807b-cc0d32b038b2",
   "metadata": {},
   "source": [
    "Some of the commonly used libraries used by Data Scientists include:  \n",
    "1. scikit-learn\n",
    "2. pytorch\n",
    "3. pandas    "
   ]
  },
  {
   "cell_type": "markdown",
   "id": "3e47b1ae-39f9-4867-88f9-c01198f25a66",
   "metadata": {},
   "source": [
    "| Data Science Tools |\n",
    "---\n",
    "| Jupyter Notebook |\n",
    "| RStudio |\n",
    "| Zeppelin Notebook |\n"
   ]
  },
  {
   "cell_type": "markdown",
   "id": "d09f16a2-bf23-41c6-9790-1eebdace508b",
   "metadata": {},
   "source": [
    "### Below are a few examples of evaluating arithmetic expressions in Python"
   ]
  },
  {
   "cell_type": "code",
   "execution_count": 5,
   "id": "4e18c86e-d087-4bd5-9598-8b4c5956c303",
   "metadata": {},
   "outputs": [
    {
     "data": {
      "text/plain": [
       "17"
      ]
     },
     "execution_count": 5,
     "metadata": {},
     "output_type": "execute_result"
    }
   ],
   "source": [
    "(3*4)+5\n",
    "# This a simple arithmetic expression to mutiply then add integers"
   ]
  },
  {
   "cell_type": "code",
   "execution_count": 6,
   "id": "eed725a4-b44d-40c5-b319-658cbda5378c",
   "metadata": {},
   "outputs": [
    {
     "data": {
      "text/plain": [
       "3.3333333333333335"
      ]
     },
     "execution_count": 6,
     "metadata": {},
     "output_type": "execute_result"
    }
   ],
   "source": [
    "200/60\n",
    "# This will convert 200 minutes to hours by diving by 60"
   ]
  },
  {
   "cell_type": "markdown",
   "id": "d462d567-5504-446a-99d9-cc51a2454cd2",
   "metadata": {},
   "source": [
    "**Objectives:**  \n",
    "* List popular languages for Data Science\n",
    "* List Data Management Tools\n",
    "* List Data Integratin and Transfermation Tools\n",
    "* List Data Visualization Tools\n",
    "\n"
   ]
  },
  {
   "cell_type": "markdown",
   "id": "0f77c085-69fc-424e-8a6b-68e4e603b4a3",
   "metadata": {},
   "source": [
    "## Author\n",
    "Kiran Chalancharla"
   ]
  },
  {
   "cell_type": "code",
   "execution_count": null,
   "id": "f6d6158c-46d1-495a-926c-552f5d7a9ce3",
   "metadata": {},
   "outputs": [],
   "source": []
  }
 ],
 "metadata": {
  "kernelspec": {
   "display_name": "Python 3 (ipykernel)",
   "language": "python",
   "name": "python3"
  },
  "language_info": {
   "codemirror_mode": {
    "name": "ipython",
    "version": 3
   },
   "file_extension": ".py",
   "mimetype": "text/x-python",
   "name": "python",
   "nbconvert_exporter": "python",
   "pygments_lexer": "ipython3",
   "version": "3.10.8"
  }
 },
 "nbformat": 4,
 "nbformat_minor": 5
}
